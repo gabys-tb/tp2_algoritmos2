{
 "cells": [
  {
   "cell_type": "markdown",
   "metadata": {},
   "source": [
    "### Trabalho Prático 2 \n",
    "__Nome:__ Gabriela Tavares Barreto \n",
    "\n",
    "__Matrícula:__ 2018074657"
   ]
  },
  {
   "cell_type": "markdown",
   "metadata": {},
   "source": [
    "## Código"
   ]
  },
  {
   "cell_type": "markdown",
   "metadata": {},
   "source": [
    "### Importando módulos "
   ]
  },
  {
   "cell_type": "code",
   "execution_count": 1,
   "metadata": {},
   "outputs": [],
   "source": [
    "import numpy as np\n",
    "import networkx as nx\n",
    "import heapq as hq\n",
    "import matplotlib.pyplot as plt\n",
    "import sys\n",
    "import math\n",
    "\n",
    "INF = float(sys.maxsize)"
   ]
  },
  {
   "cell_type": "markdown",
   "metadata": {},
   "source": [
    "### Funções auxiliares"
   ]
  },
  {
   "cell_type": "code",
   "execution_count": 2,
   "metadata": {},
   "outputs": [],
   "source": [
    "def ler_arquivo(arq):\n",
    "    arquivo = open(arq, 'r')\n",
    "    vertices = []\n",
    "    flag = False\n",
    "    for linha in arquivo:\n",
    "        if not flag:\n",
    "            if linha.split()[0] == 'DIMENSION':\n",
    "                d = int(linha.split()[2])\n",
    "            if linha == 'NODE_COORD_SECTION\\n':\n",
    "                flag = True\n",
    "                continue\n",
    "        if linha == 'EOF\\n':\n",
    "            break\n",
    "\n",
    "        if flag:\n",
    "            vertice = [0, (0,0)]\n",
    "            lista_num = linha.split()\n",
    "            vertice[0] = int(lista_num[0])\n",
    "\n",
    "            if vertice[0] == 27:\n",
    "               break\n",
    "\n",
    "            vertice[1] = (int(lista_num[1]), int(lista_num[2]))\n",
    "            vertices.append(vertice)\n",
    "    \n",
    "    arquivo.close()\n",
    "\n",
    "    return d, vertices"
   ]
  },
  {
   "cell_type": "code",
   "execution_count": 3,
   "metadata": {},
   "outputs": [],
   "source": [
    "# funções auxiliares\n",
    "def distancia_euclidiana(a, b):\n",
    "    return np.sqrt((a[0]-b[0])**2+(a[1]-b[1])**2)\n",
    "\n",
    "def calcula_arestas(d, dados):\n",
    "    arestas = []\n",
    "    for i in range(0, d-1):\n",
    "        for j in range(i+1, d):\n",
    "            aresta = [0, 0, 0]\n",
    "            aresta[0] = dados[i][0]  # vertice 1\n",
    "            aresta[1] = dados[j][0]  # vertice 2\n",
    "            aresta[2] = distancia_euclidiana(dados[i][1], dados[j][1])  # peso\n",
    "            arestas.append(aresta)\n",
    "    return arestas"
   ]
  },
  {
   "cell_type": "markdown",
   "metadata": {},
   "source": [
    "### Branch and bound"
   ]
  },
  {
   "cell_type": "code",
   "execution_count": 4,
   "metadata": {},
   "outputs": [],
   "source": [
    "def bound(G, c, menores_arestas):\n",
    "    bound = 0\n",
    "\n",
    "    # Adicionar custos das arestas no caminho atual\n",
    "    for i in range(len(c) - 1):\n",
    "        if c[i+1] == 0:\n",
    "            break\n",
    "        \n",
    "        bound += G[c[i]][c[i+1]]['weight']\n",
    "\n",
    "    # Estimativa para nós não visitados\n",
    "    nao_visitado = set(G.nodes()) - set(c)\n",
    "\n",
    "    for node in nao_visitado:\n",
    "        \n",
    "        if nao_visitado - {node}:\n",
    "            min_edge = menores_arestas[node]\n",
    "        else:\n",
    "        # Lidar com o conjunto vazio, por exemplo, definindo min_edge como 0 ou INF\n",
    "            min_edge = 0\n",
    "\n",
    "        # Menor aresta conectando o nó a qualquer outro nó não visitado\n",
    "        #min_edge = min([G[node][neigh]['weight'] for neigh in nao_visitado - {node}])\n",
    "\n",
    "        bound += min_edge\n",
    "\n",
    "    bound = math.ceil(bound)\n",
    "    \n",
    "    return bound\n",
    "\n",
    "class Node:\n",
    "    def __init__(self, bound, caminho, nivel):\n",
    "        self.bound = bound\n",
    "        #self.lista = lista\n",
    "        self.caminho = caminho\n",
    "        self.nivel = nivel\n",
    "\n",
    "    def __lt__(self, outro):\n",
    "        return self.bound < outro.bound\n",
    "    \n",
    "    \n",
    "def no_caminho(c, v):\n",
    "    for i in c:\n",
    "        if i == v:\n",
    "            return True\n",
    "    return False\n",
    "        \n",
    "def custo_circuito(c, G, n):\n",
    "    custo = 0\n",
    "    for i in range(-1,n-2):\n",
    "        custo += G[c[i]][c[i+1]]['weight']\n",
    "    \n",
    "    return custo\n",
    "\n",
    "def menores_arestas(g, n):  # pega a menor aresta de cada vertice e retorna em uma lista \n",
    "    menores = [None]*(n+1)   \n",
    "    for i in range(1, n+1):\n",
    "        m1 = INF\n",
    "        for j in list(g[i]):\n",
    "            if g[i][j]['weight'] < m1:\n",
    "                m1 = g[i][j]['weight']\n",
    "        menores[i] = m1    \n",
    "    return menores\n",
    "\n"
   ]
  },
  {
   "cell_type": "markdown",
   "metadata": {},
   "source": [
    "### Twice around the three & Chritofides"
   ]
  },
  {
   "cell_type": "code",
   "execution_count": 5,
   "metadata": {},
   "outputs": [],
   "source": [
    "def twice_around_the_three(grafo, n):\n",
    "    T = nx.minimum_spanning_tree(grafo)\n",
    "    caminho = np.array(list(nx.dfs_preorder_nodes(T, source=2)))\n",
    "    custo = custo_circuito(caminho, grafo, n)\n",
    "    return custo, caminho\n",
    "\n",
    "def christofides(grafo, n):\n",
    "    T = nx.minimum_spanning_tree(grafo) \n",
    "    vertices = np.array(list(grafo)) # todos vertices\n",
    "    grau = list(T.degree(vertices)) #lista de vertices e respectivos graus\n",
    "    grau_impar = [x[0] for x in grau if x[1]%2 == 1] \n",
    "\n",
    "    H = nx.induced_subgraph(grafo, grau_impar)\n",
    "    H = nx.Graph(H)\n",
    "    H.remove_nodes_from([n for n in H if n not in set(grau_impar)])\n",
    "    conj_arestas = nx.min_weight_matching(H)\n",
    "\n",
    "    M = nx.Graph()\n",
    "    for u, v in conj_arestas:\n",
    "        if grafo.has_edge(u, v):\n",
    "            peso = grafo[u][v]['weight']\n",
    "            M.add_edge(u, v, weight=peso)\n",
    "    C = nx.compose(T, M)\n",
    "\n",
    "    caminho = np.array(list(nx.dfs_preorder_nodes(C, source=1)))\n",
    "    custo = custo_circuito(caminho, grafo, n)\n",
    "    \n",
    "    return custo, caminho"
   ]
  },
  {
   "cell_type": "markdown",
   "metadata": {},
   "source": [
    "## Experimentos"
   ]
  },
  {
   "cell_type": "code",
   "execution_count": 6,
   "metadata": {},
   "outputs": [],
   "source": [
    "d, dados = ler_arquivo('./instancias/eil51.tsp')"
   ]
  },
  {
   "cell_type": "code",
   "execution_count": 7,
   "metadata": {},
   "outputs": [],
   "source": [
    "d = 26\n",
    "arestas = calcula_arestas(d, dados)"
   ]
  },
  {
   "cell_type": "code",
   "execution_count": 8,
   "metadata": {},
   "outputs": [],
   "source": [
    "grafo = nx.Graph()\n",
    "grafo.add_weighted_edges_from(arestas)\n"
   ]
  },
  {
   "cell_type": "code",
   "execution_count": 9,
   "metadata": {},
   "outputs": [
    {
     "data": {
      "text/plain": [
       "array([ 1,  3, 20,  2, 21, 16, 11,  5, 12, 17, 19, 13, 25, 14, 24, 23,  7,\n",
       "       26,  8,  6, 18,  4, 15, 10,  9, 22,  1])"
      ]
     },
     "execution_count": 9,
     "metadata": {},
     "output_type": "execute_result"
    }
   ],
   "source": [
    "tsp = nx.approximation.traveling_salesman_problem\n",
    "path = tsp(grafo, cycle=True)\n",
    "np.array(path)"
   ]
  },
  {
   "cell_type": "code",
   "execution_count": 10,
   "metadata": {},
   "outputs": [
    {
     "data": {
      "text/plain": [
       "293.9818620386882"
      ]
     },
     "execution_count": 10,
     "metadata": {},
     "output_type": "execute_result"
    }
   ],
   "source": [
    "custo_circuito(path[:d], grafo, d)"
   ]
  },
  {
   "cell_type": "code",
   "execution_count": 11,
   "metadata": {},
   "outputs": [
    {
     "data": {
      "text/plain": [
       "(374.3258107684429,\n",
       " array([ 2, 16,  9, 10, 11,  5, 12, 17,  4, 18, 14, 25, 13, 19,  6, 24, 23,\n",
       "         7, 26,  8, 15, 21, 22,  1, 20,  3]))"
      ]
     },
     "execution_count": 11,
     "metadata": {},
     "output_type": "execute_result"
    }
   ],
   "source": [
    "twice_around_the_three(grafo, d)"
   ]
  },
  {
   "cell_type": "code",
   "execution_count": 12,
   "metadata": {},
   "outputs": [
    {
     "data": {
      "text/plain": [
       "(305.43932458222304,\n",
       " array([ 1, 22,  2, 16,  9, 10, 15, 17,  4, 18, 14,  6,  8, 26,  7, 23, 24,\n",
       "        25, 13, 19, 12,  5, 11, 21, 20,  3]))"
      ]
     },
     "execution_count": 12,
     "metadata": {},
     "output_type": "execute_result"
    }
   ],
   "source": [
    "christofides(grafo, d)\n"
   ]
  },
  {
   "cell_type": "markdown",
   "metadata": {},
   "source": [
    "## estando coisa nova"
   ]
  },
  {
   "cell_type": "code",
   "execution_count": 13,
   "metadata": {},
   "outputs": [],
   "source": [
    "def bound1(arestas, n):\n",
    "    s = 0\n",
    "    for i in range(1, n+1):\n",
    "        s += arestas[i][0] + arestas[i][1]\n",
    "    return math.ceil(s/2)\n",
    "\n",
    "def bound_ultimo(c, j, g, n):\n",
    "    s = 0\n",
    "    #print(n-2)\n",
    "    for i in range(1, n-2):\n",
    "        s += g[c[i-1]][c[i]]['weight'] +  g[c[i]][c[i+1]]['weight']\n",
    "    s += g[c[n-3]][c[n-2]]['weight']+ g[c[n-2]][j]['weight']\n",
    "    s += g[c[n-2]][j]['weight'] + 2*g[j][c[1]]['weight'] + g[1][c[1]]['weight']\n",
    "\n",
    "    return math.ceil(s/2)\n",
    "\n",
    "def menores_arestas(g, n):  # pega duas menores arestas de cada vertice e retorna em uma lista \n",
    "    arestas = np.empty((n+1, 2))\n",
    "    # Obter as arestas conectadas a esse vértice, juntamente com os pesos\n",
    "    for i in range(1, n+1):\n",
    "        pesos = [(g[i][j]['weight']) for j in g[i]]\n",
    "        # Ordenar as arestas pelo peso\n",
    "        pesos.sort(key=lambda x: x)\n",
    "        # Obter as duas arestas com menores pesos\n",
    "        arestas[i][0] = pesos[0]\n",
    "        arestas[i][1] = pesos[1]  \n",
    "    return arestas\n",
    "\n",
    "def bound2(c, j, menores_arestas, n, g):\n",
    "    aux = bound = 0\n",
    "\n",
    "    if c[1] == 0: # quando vai preencher a segunda posição\n",
    "        aux = g[1][j]['weight']\n",
    "    else:\n",
    "        aux = g[1][c[1]]['weight']\n",
    "\n",
    "    # se arestas de 1 pro proximo nao for uma das menores arestas\n",
    "    if aux != menores_arestas[1][0] and aux != menores_arestas[1][1]:\n",
    "        bound = aux + menores_arestas[1][0]\n",
    "    else:\n",
    "        bound = menores_arestas[1][0] + menores_arestas[1][1]\n",
    "    \n",
    "    for i in range(1, n):\n",
    "        if c[i+1] == 0:\n",
    "            #print(c[i],i)\n",
    "            bound += g[c[i-1]][c[i]]['weight']+ 2*g[c[i]][j]['weight']\n",
    "            if g[c[i]][j]['weight'] == menores_arestas[j][0]:\n",
    "                bound += menores_arestas[j][1]\n",
    "            else: \n",
    "                bound += menores_arestas[j][0]\n",
    "            break\n",
    "        else:\n",
    "            bound += g[c[i-1]][c[i]]['weight']+ g[c[i]][c[i+1]]['weight']\n",
    "\n",
    "    nao_visitado = set(g.nodes) - set(c) - {j}\n",
    "    for i in nao_visitado:\n",
    "        bound += menores_arestas[i][0] + menores_arestas[i][1]\n",
    "\n",
    "    return math.ceil(bound/2)\n",
    "\n",
    "\n",
    "\n",
    "def branch_and_bound2(G, N):\n",
    "    c = np.zeros(N, dtype=int) #caminho vazio\n",
    "    c[0] = 1\n",
    "    arestas = menores_arestas(G, N)\n",
    "    b = bound1(arestas, N) # limite inferior da raiz\n",
    "    raiz = Node(b, c, 1) # bound, caminho, nível da arvore\n",
    "   \n",
    "    h = []\n",
    "    hq.heappush(h, raiz)\n",
    "    melhor = INF\n",
    "    sol = []\n",
    "\n",
    "    while(len(h) != 0):\n",
    "        node = hq.heappop(h)\n",
    "        if node.nivel == N:\n",
    "            custo_sol = custo_circuito(node.caminho, G, N)\n",
    "            if melhor > custo_sol:\n",
    "                melhor = custo_sol\n",
    "                sol = node.caminho\n",
    "        elif node.bound < melhor:\n",
    "            if node.nivel < N:\n",
    "                for j in range(1, N+1):\n",
    "                    #if not no_caminho(node.caminho, j):\n",
    "                    if j not in set(node.caminho):\n",
    "                        novo_bound = bound2(node.caminho, j, arestas, node.nivel, G)\n",
    "                        if novo_bound < melhor:\n",
    "                            c_novo = node.caminho.copy()\n",
    "                            c_novo[node.nivel] = j\n",
    "                            \n",
    "                            #aux_node = Node(novo_bound, c_novo, node.nivel+1)\n",
    "                            hq.heappush(h, Node(novo_bound, c_novo, node.nivel+1))\n",
    "            #if node.nivel < N-1:\n",
    "    return melhor, sol"
   ]
  },
  {
   "cell_type": "code",
   "execution_count": 16,
   "metadata": {},
   "outputs": [],
   "source": [
    "branch_and_bound2(grafo, d)\n"
   ]
  },
  {
   "cell_type": "code",
   "execution_count": 15,
   "metadata": {},
   "outputs": [],
   "source": [
    "import winsound\n",
    "duration = 4000 # milliseconds\n",
    "\n",
    "freq = 440  # Hz\n",
    "winsound.Beep(freq, duration)"
   ]
  }
 ],
 "metadata": {
  "kernelspec": {
   "display_name": "base",
   "language": "python",
   "name": "python3"
  },
  "language_info": {
   "codemirror_mode": {
    "name": "ipython",
    "version": 3
   },
   "file_extension": ".py",
   "mimetype": "text/x-python",
   "name": "python",
   "nbconvert_exporter": "python",
   "pygments_lexer": "ipython3",
   "version": "3.9.13"
  }
 },
 "nbformat": 4,
 "nbformat_minor": 2
}
