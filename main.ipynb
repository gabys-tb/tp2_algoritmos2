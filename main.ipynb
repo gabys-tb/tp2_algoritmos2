{
 "cells": [
  {
   "cell_type": "markdown",
   "metadata": {},
   "source": [
    "### Trabalho Prático 2 \n",
    "__Nome:__ Gabriela Tavares Barreto \n",
    "\n",
    "__Matrícula:__ 2018074657"
   ]
  },
  {
   "cell_type": "markdown",
   "metadata": {},
   "source": [
    "## Código"
   ]
  },
  {
   "cell_type": "markdown",
   "metadata": {},
   "source": [
    "### Importando módulos "
   ]
  },
  {
   "cell_type": "code",
   "execution_count": 1,
   "metadata": {},
   "outputs": [],
   "source": [
    "import numpy as np\n",
    "import networkx as nx\n",
    "import heapq as hq\n",
    "import matplotlib.pyplot as plt\n",
    "import sys\n",
    "import math\n",
    "import time\n",
    "import os\n",
    "\n",
    "INF = float(sys.maxsize)"
   ]
  },
  {
   "cell_type": "markdown",
   "metadata": {},
   "source": [
    "### Funções de leitura de dados"
   ]
  },
  {
   "cell_type": "code",
   "execution_count": 2,
   "metadata": {},
   "outputs": [],
   "source": [
    "def ler_arquivo(arq):\n",
    "    arquivo = open(arq, 'r')\n",
    "    vertices = []\n",
    "    flag = False\n",
    "    for linha in arquivo:\n",
    "        if not flag:\n",
    "            if linha.split()[0] == 'DIMENSION:':\n",
    "                d = int(linha.split()[1])\n",
    "            elif linha.split()[0] == 'DIMENSION':\n",
    "                d = int(linha.split()[2])\n",
    "            if linha == 'NODE_COORD_SECTION\\n':\n",
    "                flag = True\n",
    "                continue\n",
    "            \n",
    "        if linha == 'EOF\\n' or linha == 'EOF' or linha == '\\n':\n",
    "            break\n",
    "\n",
    "        if flag:\n",
    "            vertice = [0, (0,0)]\n",
    "            lista_num = linha.split()\n",
    "            vertice[0] = float(lista_num[0])\n",
    "            vertice[1] = (float(lista_num[1]), float(lista_num[2]))\n",
    "            vertices.append(vertice)\n",
    "    \n",
    "    arquivo.close()\n",
    "\n",
    "    return d, vertices"
   ]
  },
  {
   "cell_type": "markdown",
   "metadata": {},
   "source": [
    "### Funções auxiliares"
   ]
  },
  {
   "cell_type": "code",
   "execution_count": 3,
   "metadata": {},
   "outputs": [],
   "source": [
    "# funções auxiliares\n",
    "def distancia_euclidiana(a, b):\n",
    "    return np.sqrt((a[0]-b[0])**2+(a[1]-b[1])**2)\n",
    "\n",
    "def calcula_arestas(d, dados):\n",
    "    arestas = []\n",
    "    for i in range(0, d-1):\n",
    "        for j in range(i+1, d):\n",
    "            aresta = [0, 0, 0]\n",
    "            aresta[0] = dados[i][0]  # vertice 1\n",
    "            aresta[1] = dados[j][0]  # vertice 2\n",
    "            aresta[2] = distancia_euclidiana(dados[i][1], dados[j][1])  # peso\n",
    "            arestas.append(aresta)\n",
    "    return arestas\n",
    "\n",
    "def custo_circuito(c, G, n):\n",
    "    custo = 0\n",
    "    for i in range(-1,n-2):\n",
    "        custo += G[c[i]][c[i+1]]['weight']\n",
    "    \n",
    "    return custo"
   ]
  },
  {
   "cell_type": "markdown",
   "metadata": {},
   "source": [
    "### Branch and bound"
   ]
  },
  {
   "cell_type": "code",
   "execution_count": 4,
   "metadata": {},
   "outputs": [],
   "source": [
    "class Node:\n",
    "    def __init__(self, bound, caminho, nivel):\n",
    "        self.bound = bound\n",
    "        #self.lista = lista\n",
    "        self.caminho = caminho\n",
    "        self.nivel = nivel\n",
    "\n",
    "    def __lt__(self, outro):\n",
    "        return self.bound < outro.bound\n",
    "    \n",
    "    \n",
    "def no_caminho(c, v):\n",
    "    for i in c:\n",
    "        if i == v:\n",
    "            return True\n",
    "    return False\n",
    "        \n",
    "\n",
    "# calcula limite inferior da raiz\n",
    "def bound_raiz(arestas, n):\n",
    "    s = 0\n",
    "    for i in range(1, n+1):\n",
    "        s += arestas[i][0] + arestas[i][1]\n",
    "    return math.ceil(s/2)\n",
    "\n",
    "def bound_ultimo(c, j, g, n):\n",
    "    s = 0\n",
    "    for i in range(1, n-2):\n",
    "        s += g[c[i-1]][c[i]]['weight'] +  g[c[i]][c[i+1]]['weight']\n",
    "    s += g[c[n-3]][c[n-2]]['weight']+ g[c[n-2]][j]['weight']\n",
    "    s += g[c[n-2]][j]['weight'] + 2*g[j][c[1]]['weight'] + g[1][c[1]]['weight']\n",
    "\n",
    "    return math.ceil(s/2)\n",
    "\n",
    "def menores_arestas(g, n):  # pega duas menores arestas de cada vertice e retorna em uma lista \n",
    "    arestas = np.empty((n+1, 2))\n",
    "    # Obter as arestas conectadas a esse vértice, juntamente com os pesos\n",
    "    for i in range(1, n+1):\n",
    "        pesos = [(g[i][j]['weight']) for j in g[i]]\n",
    "        # Ordenar as arestas pelo peso\n",
    "        pesos.sort(key=lambda x: x)\n",
    "        # Obter as duas arestas com menores pesos\n",
    "        arestas[i][0] = pesos[0]\n",
    "        arestas[i][1] = pesos[1]  \n",
    "    return arestas\n",
    "\n",
    "def bound(c, j, menores_arestas, n, g):\n",
    "    aux = bound = 0\n",
    "\n",
    "    if c[1] == 0: # quando vai preencher a segunda posição\n",
    "        aux = g[1][j]['weight']\n",
    "    else:\n",
    "        aux = g[1][c[1]]['weight']\n",
    "\n",
    "    # se arestas de 1 pro proximo nao for uma das menores arestas\n",
    "    if aux != menores_arestas[1][0] and aux != menores_arestas[1][1]:\n",
    "        bound = aux + menores_arestas[1][0]\n",
    "    else:\n",
    "        bound = menores_arestas[1][0] + menores_arestas[1][1]\n",
    "    \n",
    "    for i in range(1, n):\n",
    "        if c[i+1] == 0:\n",
    "            #print(c[i],i)\n",
    "            bound += g[c[i-1]][c[i]]['weight']+ 2*g[c[i]][j]['weight']\n",
    "            if g[c[i]][j]['weight'] == menores_arestas[j][0]:\n",
    "                bound += menores_arestas[j][1]\n",
    "            else: \n",
    "                bound += menores_arestas[j][0]\n",
    "            break\n",
    "        else:\n",
    "            bound += g[c[i-1]][c[i]]['weight']+ g[c[i]][c[i+1]]['weight']\n",
    "\n",
    "    nao_visitado = set(g.nodes) - set(c) - {j}\n",
    "    for i in nao_visitado:\n",
    "        bound += menores_arestas[i][0] + menores_arestas[i][1]\n",
    "\n",
    "    return math.ceil(bound/2)\n",
    "\n",
    "\n",
    "\n",
    "def branch_and_bound(G, N):\n",
    "    c = np.zeros(N, dtype=int) #caminho vazio\n",
    "    c[0] = 1\n",
    "    arestas = menores_arestas(G, N)\n",
    "    b = bound_raiz(arestas, N) # limite inferior da raiz\n",
    "    raiz = Node(b, c, 1) # bound, caminho, nível da arvore\n",
    "   \n",
    "    h = []\n",
    "    hq.heappush(h, raiz)\n",
    "    melhor = INF\n",
    "    sol = []\n",
    "\n",
    "    while(len(h) != 0):\n",
    "        node = hq.heappop(h)\n",
    "        if node.nivel == N:\n",
    "            custo_sol = custo_circuito(node.caminho, G, N)\n",
    "            if melhor > custo_sol:\n",
    "                melhor = custo_sol\n",
    "                sol = node.caminho\n",
    "        elif node.bound < melhor:\n",
    "            if node.nivel < N:\n",
    "                for j in range(1, N+1):\n",
    "                    #if not no_caminho(node.caminho, j):\n",
    "                    if j not in set(node.caminho):\n",
    "                        novo_bound = bound(node.caminho, j, arestas, node.nivel, G)\n",
    "                        if novo_bound < melhor:\n",
    "                            c_novo = node.caminho.copy()\n",
    "                            c_novo[node.nivel] = j\n",
    "                            \n",
    "                            #aux_node = Node(novo_bound, c_novo, node.nivel+1)\n",
    "                            hq.heappush(h, Node(novo_bound, c_novo, node.nivel+1))\n",
    "            #if node.nivel < N-1:\n",
    "    return melhor, sol\n"
   ]
  },
  {
   "cell_type": "markdown",
   "metadata": {},
   "source": [
    "### Twice around the three & Christofides"
   ]
  },
  {
   "cell_type": "code",
   "execution_count": 5,
   "metadata": {},
   "outputs": [],
   "source": [
    "def twice_around_the_three(grafo, n):\n",
    "    T = nx.minimum_spanning_tree(grafo)\n",
    "    caminho = np.array(list(nx.dfs_preorder_nodes(T, source=2)))\n",
    "    custo = custo_circuito(caminho, grafo, n)\n",
    "    return custo, caminho\n",
    "\n",
    "def christofides(grafo, n):\n",
    "    T = nx.minimum_spanning_tree(grafo) \n",
    "    vertices = np.array(list(grafo)) # todos vertices\n",
    "    grau = list(T.degree(vertices)) #lista de vertices e respectivos graus\n",
    "    grau_impar = [x[0] for x in grau if x[1]%2 == 1] \n",
    "\n",
    "    H = nx.induced_subgraph(grafo, grau_impar)\n",
    "    H = nx.Graph(H)\n",
    "    H.remove_nodes_from([n for n in H if n not in set(grau_impar)])\n",
    "    conj_arestas = nx.min_weight_matching(H)\n",
    "\n",
    "    M = nx.Graph()\n",
    "    for u, v in conj_arestas:\n",
    "        if grafo.has_edge(u, v):\n",
    "            peso = grafo[u][v]['weight']\n",
    "            M.add_edge(u, v, weight=peso)\n",
    "    C = nx.compose(T, M)\n",
    "\n",
    "    caminho = np.array(list(nx.dfs_preorder_nodes(C, source=1)))\n",
    "    custo = custo_circuito(caminho, grafo, n)\n",
    "    \n",
    "    return custo, caminho"
   ]
  },
  {
   "cell_type": "markdown",
   "metadata": {},
   "source": [
    "### Função para testar instâncias:"
   ]
  },
  {
   "cell_type": "code",
   "execution_count": 6,
   "metadata": {},
   "outputs": [],
   "source": [
    "def experimento(caminho_pasta):\n",
    "    for arquivo in os.listdir(caminho_pasta):\n",
    "        if arquivo[-3:] == 'tsp': \n",
    "            caminho_completo = os.path.join(caminho_pasta, arquivo)\n",
    "            dim, dados = ler_arquivo(caminho_completo)\n",
    "\n",
    "            if dim > 4000:\n",
    "                continue\n",
    "\n",
    "            arestas = calcula_arestas(dim, dados)\n",
    "            grafo = nx.Graph()\n",
    "            grafo.add_weighted_edges_from(arestas)\n",
    "\n",
    "            start_twice = time.time()\n",
    "            sol_twice, rota_twice = twice_around_the_three(grafo, dim)\n",
    "            t_twice = time.time() - start_twice\n",
    "\n",
    "            if dim < 4000:\n",
    "                start_chris = time.time()\n",
    "                sol_chris, rota_chris = christofides(grafo, dim)\n",
    "                t_chris = time.time() - start_chris\n",
    "            else:\n",
    "                start_chris = sol_chris = t_chris = -1 \n",
    "\n",
    "            dataset = arquivo[:-4]\n",
    "            a = open('tp2_datasets.txt')\n",
    "            for linha in a:\n",
    "                for palavra in linha.split():\n",
    "                    if palavra == dataset:\n",
    "                        sol_opt = linha.split()[2]\n",
    "\n",
    "            with open('resultados.txt', 'a') as arq:\n",
    "                arq.write(f'arq: {arquivo}, Vértices: {dim}, Sol.chris: {math.ceil(sol_chris)}, Sol.twice: {math.ceil(sol_twice)}, Sol.opt: {sol_opt}, t_chris: {t_chris}, t_twice: {t_twice} \\n')\n",
    "                arq.close()"
   ]
  },
  {
   "cell_type": "markdown",
   "metadata": {},
   "source": [
    "## Experimentos"
   ]
  },
  {
   "cell_type": "markdown",
   "metadata": {},
   "source": [
    "Obs: forçei o encerramento do experimento."
   ]
  },
  {
   "cell_type": "code",
   "execution_count": 7,
   "metadata": {},
   "outputs": [
    {
     "ename": "KeyboardInterrupt",
     "evalue": "",
     "output_type": "error",
     "traceback": [
      "\u001b[1;31m---------------------------------------------------------------------------\u001b[0m",
      "\u001b[1;31mKeyboardInterrupt\u001b[0m                         Traceback (most recent call last)",
      "\u001b[1;32m~\\AppData\\Local\\Temp\\ipykernel_21580\\2020397067.py\u001b[0m in \u001b[0;36m<module>\u001b[1;34m\u001b[0m\n\u001b[1;32m----> 1\u001b[1;33m \u001b[0mexperimento\u001b[0m\u001b[1;33m(\u001b[0m\u001b[1;34m'./instancias/'\u001b[0m\u001b[1;33m)\u001b[0m\u001b[1;33m\u001b[0m\u001b[1;33m\u001b[0m\u001b[0m\n\u001b[0m",
      "\u001b[1;32m~\\AppData\\Local\\Temp\\ipykernel_21580\\415051309.py\u001b[0m in \u001b[0;36mexperimento\u001b[1;34m(caminho_pasta)\u001b[0m\n\u001b[0;32m     18\u001b[0m             \u001b[1;32mif\u001b[0m \u001b[0mdim\u001b[0m \u001b[1;33m<\u001b[0m \u001b[1;36m4000\u001b[0m\u001b[1;33m:\u001b[0m\u001b[1;33m\u001b[0m\u001b[1;33m\u001b[0m\u001b[0m\n\u001b[0;32m     19\u001b[0m                 \u001b[0mstart_chris\u001b[0m \u001b[1;33m=\u001b[0m \u001b[0mtime\u001b[0m\u001b[1;33m.\u001b[0m\u001b[0mtime\u001b[0m\u001b[1;33m(\u001b[0m\u001b[1;33m)\u001b[0m\u001b[1;33m\u001b[0m\u001b[1;33m\u001b[0m\u001b[0m\n\u001b[1;32m---> 20\u001b[1;33m                 \u001b[0msol_chris\u001b[0m\u001b[1;33m,\u001b[0m \u001b[0mrota_chris\u001b[0m \u001b[1;33m=\u001b[0m \u001b[0mchristofides\u001b[0m\u001b[1;33m(\u001b[0m\u001b[0mgrafo\u001b[0m\u001b[1;33m,\u001b[0m \u001b[0mdim\u001b[0m\u001b[1;33m)\u001b[0m\u001b[1;33m\u001b[0m\u001b[1;33m\u001b[0m\u001b[0m\n\u001b[0m\u001b[0;32m     21\u001b[0m                 \u001b[0mt_chris\u001b[0m \u001b[1;33m=\u001b[0m \u001b[0mtime\u001b[0m\u001b[1;33m.\u001b[0m\u001b[0mtime\u001b[0m\u001b[1;33m(\u001b[0m\u001b[1;33m)\u001b[0m \u001b[1;33m-\u001b[0m \u001b[0mstart_chris\u001b[0m\u001b[1;33m\u001b[0m\u001b[1;33m\u001b[0m\u001b[0m\n\u001b[0;32m     22\u001b[0m             \u001b[1;32melse\u001b[0m\u001b[1;33m:\u001b[0m\u001b[1;33m\u001b[0m\u001b[1;33m\u001b[0m\u001b[0m\n",
      "\u001b[1;32m~\\AppData\\Local\\Temp\\ipykernel_21580\\4090345821.py\u001b[0m in \u001b[0;36mchristofides\u001b[1;34m(grafo, n)\u001b[0m\n\u001b[0;32m     14\u001b[0m     \u001b[0mH\u001b[0m \u001b[1;33m=\u001b[0m \u001b[0mnx\u001b[0m\u001b[1;33m.\u001b[0m\u001b[0mGraph\u001b[0m\u001b[1;33m(\u001b[0m\u001b[0mH\u001b[0m\u001b[1;33m)\u001b[0m\u001b[1;33m\u001b[0m\u001b[1;33m\u001b[0m\u001b[0m\n\u001b[0;32m     15\u001b[0m     \u001b[0mH\u001b[0m\u001b[1;33m.\u001b[0m\u001b[0mremove_nodes_from\u001b[0m\u001b[1;33m(\u001b[0m\u001b[1;33m[\u001b[0m\u001b[0mn\u001b[0m \u001b[1;32mfor\u001b[0m \u001b[0mn\u001b[0m \u001b[1;32min\u001b[0m \u001b[0mH\u001b[0m \u001b[1;32mif\u001b[0m \u001b[0mn\u001b[0m \u001b[1;32mnot\u001b[0m \u001b[1;32min\u001b[0m \u001b[0mset\u001b[0m\u001b[1;33m(\u001b[0m\u001b[0mgrau_impar\u001b[0m\u001b[1;33m)\u001b[0m\u001b[1;33m]\u001b[0m\u001b[1;33m)\u001b[0m\u001b[1;33m\u001b[0m\u001b[1;33m\u001b[0m\u001b[0m\n\u001b[1;32m---> 16\u001b[1;33m     \u001b[0mconj_arestas\u001b[0m \u001b[1;33m=\u001b[0m \u001b[0mnx\u001b[0m\u001b[1;33m.\u001b[0m\u001b[0mmin_weight_matching\u001b[0m\u001b[1;33m(\u001b[0m\u001b[0mH\u001b[0m\u001b[1;33m)\u001b[0m\u001b[1;33m\u001b[0m\u001b[1;33m\u001b[0m\u001b[0m\n\u001b[0m\u001b[0;32m     17\u001b[0m \u001b[1;33m\u001b[0m\u001b[0m\n\u001b[0;32m     18\u001b[0m     \u001b[0mM\u001b[0m \u001b[1;33m=\u001b[0m \u001b[0mnx\u001b[0m\u001b[1;33m.\u001b[0m\u001b[0mGraph\u001b[0m\u001b[1;33m(\u001b[0m\u001b[1;33m)\u001b[0m\u001b[1;33m\u001b[0m\u001b[1;33m\u001b[0m\u001b[0m\n",
      "\u001b[1;32mc:\\Users\\gabri\\anaconda3\\lib\\site-packages\\networkx\\utils\\decorators.py\u001b[0m in \u001b[0;36margmap_min_weight_matching_9\u001b[1;34m(G, maxcardinality, weight)\u001b[0m\n\u001b[0;32m      3\u001b[0m \u001b[1;32mimport\u001b[0m \u001b[0mgzip\u001b[0m\u001b[1;33m\u001b[0m\u001b[1;33m\u001b[0m\u001b[0m\n\u001b[0;32m      4\u001b[0m \u001b[1;32mimport\u001b[0m \u001b[0minspect\u001b[0m\u001b[1;33m\u001b[0m\u001b[1;33m\u001b[0m\u001b[0m\n\u001b[1;32m----> 5\u001b[1;33m \u001b[1;32mimport\u001b[0m \u001b[0mitertools\u001b[0m\u001b[1;33m\u001b[0m\u001b[1;33m\u001b[0m\u001b[0m\n\u001b[0m\u001b[0;32m      6\u001b[0m \u001b[1;32mimport\u001b[0m \u001b[0mre\u001b[0m\u001b[1;33m\u001b[0m\u001b[1;33m\u001b[0m\u001b[0m\n\u001b[0;32m      7\u001b[0m \u001b[1;32mfrom\u001b[0m \u001b[0mcollections\u001b[0m \u001b[1;32mimport\u001b[0m \u001b[0mdefaultdict\u001b[0m\u001b[1;33m\u001b[0m\u001b[1;33m\u001b[0m\u001b[0m\n",
      "\u001b[1;32mc:\\Users\\gabri\\anaconda3\\lib\\site-packages\\networkx\\algorithms\\matching.py\u001b[0m in \u001b[0;36mmin_weight_matching\u001b[1;34m(G, maxcardinality, weight)\u001b[0m\n\u001b[0;32m    326\u001b[0m     \u001b[0medges\u001b[0m \u001b[1;33m=\u001b[0m \u001b[1;33m(\u001b[0m\u001b[1;33m(\u001b[0m\u001b[0mu\u001b[0m\u001b[1;33m,\u001b[0m \u001b[0mv\u001b[0m\u001b[1;33m,\u001b[0m \u001b[0mmax_weight\u001b[0m \u001b[1;33m-\u001b[0m \u001b[0mw\u001b[0m\u001b[1;33m)\u001b[0m \u001b[1;32mfor\u001b[0m \u001b[0mu\u001b[0m\u001b[1;33m,\u001b[0m \u001b[0mv\u001b[0m\u001b[1;33m,\u001b[0m \u001b[0mw\u001b[0m \u001b[1;32min\u001b[0m \u001b[0mG_edges\u001b[0m\u001b[1;33m)\u001b[0m\u001b[1;33m\u001b[0m\u001b[1;33m\u001b[0m\u001b[0m\n\u001b[0;32m    327\u001b[0m     \u001b[0mInvG\u001b[0m\u001b[1;33m.\u001b[0m\u001b[0madd_weighted_edges_from\u001b[0m\u001b[1;33m(\u001b[0m\u001b[0medges\u001b[0m\u001b[1;33m,\u001b[0m \u001b[0mweight\u001b[0m\u001b[1;33m=\u001b[0m\u001b[0mweight\u001b[0m\u001b[1;33m)\u001b[0m\u001b[1;33m\u001b[0m\u001b[1;33m\u001b[0m\u001b[0m\n\u001b[1;32m--> 328\u001b[1;33m     \u001b[1;32mreturn\u001b[0m \u001b[0mmax_weight_matching\u001b[0m\u001b[1;33m(\u001b[0m\u001b[0mInvG\u001b[0m\u001b[1;33m,\u001b[0m \u001b[0mmaxcardinality\u001b[0m\u001b[1;33m=\u001b[0m\u001b[1;32mTrue\u001b[0m\u001b[1;33m,\u001b[0m \u001b[0mweight\u001b[0m\u001b[1;33m=\u001b[0m\u001b[0mweight\u001b[0m\u001b[1;33m)\u001b[0m\u001b[1;33m\u001b[0m\u001b[1;33m\u001b[0m\u001b[0m\n\u001b[0m\u001b[0;32m    329\u001b[0m \u001b[1;33m\u001b[0m\u001b[0m\n\u001b[0;32m    330\u001b[0m \u001b[1;33m\u001b[0m\u001b[0m\n",
      "\u001b[1;32mc:\\Users\\gabri\\anaconda3\\lib\\site-packages\\networkx\\utils\\decorators.py\u001b[0m in \u001b[0;36margmap_max_weight_matching_14\u001b[1;34m(G, maxcardinality, weight)\u001b[0m\n\u001b[0;32m      3\u001b[0m \u001b[1;32mimport\u001b[0m \u001b[0mgzip\u001b[0m\u001b[1;33m\u001b[0m\u001b[1;33m\u001b[0m\u001b[0m\n\u001b[0;32m      4\u001b[0m \u001b[1;32mimport\u001b[0m \u001b[0minspect\u001b[0m\u001b[1;33m\u001b[0m\u001b[1;33m\u001b[0m\u001b[0m\n\u001b[1;32m----> 5\u001b[1;33m \u001b[1;32mimport\u001b[0m \u001b[0mitertools\u001b[0m\u001b[1;33m\u001b[0m\u001b[1;33m\u001b[0m\u001b[0m\n\u001b[0m\u001b[0;32m      6\u001b[0m \u001b[1;32mimport\u001b[0m \u001b[0mre\u001b[0m\u001b[1;33m\u001b[0m\u001b[1;33m\u001b[0m\u001b[0m\n\u001b[0;32m      7\u001b[0m \u001b[1;32mfrom\u001b[0m \u001b[0mcollections\u001b[0m \u001b[1;32mimport\u001b[0m \u001b[0mdefaultdict\u001b[0m\u001b[1;33m\u001b[0m\u001b[1;33m\u001b[0m\u001b[0m\n",
      "\u001b[1;32mc:\\Users\\gabri\\anaconda3\\lib\\site-packages\\networkx\\algorithms\\matching.py\u001b[0m in \u001b[0;36mmax_weight_matching\u001b[1;34m(G, maxcardinality, weight)\u001b[0m\n\u001b[0;32m    956\u001b[0m                         \u001b[1;32mcontinue\u001b[0m\u001b[1;33m\u001b[0m\u001b[1;33m\u001b[0m\u001b[0m\n\u001b[0;32m    957\u001b[0m                     \u001b[1;32mif\u001b[0m \u001b[1;33m(\u001b[0m\u001b[0mv\u001b[0m\u001b[1;33m,\u001b[0m \u001b[0mw\u001b[0m\u001b[1;33m)\u001b[0m \u001b[1;32mnot\u001b[0m \u001b[1;32min\u001b[0m \u001b[0mallowedge\u001b[0m\u001b[1;33m:\u001b[0m\u001b[1;33m\u001b[0m\u001b[1;33m\u001b[0m\u001b[0m\n\u001b[1;32m--> 958\u001b[1;33m                         \u001b[0mkslack\u001b[0m \u001b[1;33m=\u001b[0m \u001b[0mslack\u001b[0m\u001b[1;33m(\u001b[0m\u001b[0mv\u001b[0m\u001b[1;33m,\u001b[0m \u001b[0mw\u001b[0m\u001b[1;33m)\u001b[0m\u001b[1;33m\u001b[0m\u001b[1;33m\u001b[0m\u001b[0m\n\u001b[0m\u001b[0;32m    959\u001b[0m                         \u001b[1;32mif\u001b[0m \u001b[0mkslack\u001b[0m \u001b[1;33m<=\u001b[0m \u001b[1;36m0\u001b[0m\u001b[1;33m:\u001b[0m\u001b[1;33m\u001b[0m\u001b[1;33m\u001b[0m\u001b[0m\n\u001b[0;32m    960\u001b[0m                             \u001b[1;31m# edge k has zero slack => it is allowable\u001b[0m\u001b[1;33m\u001b[0m\u001b[1;33m\u001b[0m\u001b[0m\n",
      "\u001b[1;32mc:\\Users\\gabri\\anaconda3\\lib\\site-packages\\networkx\\algorithms\\matching.py\u001b[0m in \u001b[0;36mslack\u001b[1;34m(v, w)\u001b[0m\n\u001b[0;32m    519\u001b[0m     \u001b[1;31m# Return 2 * slack of edge (v, w) (does not work inside blossoms).\u001b[0m\u001b[1;33m\u001b[0m\u001b[1;33m\u001b[0m\u001b[0m\n\u001b[0;32m    520\u001b[0m     \u001b[1;32mdef\u001b[0m \u001b[0mslack\u001b[0m\u001b[1;33m(\u001b[0m\u001b[0mv\u001b[0m\u001b[1;33m,\u001b[0m \u001b[0mw\u001b[0m\u001b[1;33m)\u001b[0m\u001b[1;33m:\u001b[0m\u001b[1;33m\u001b[0m\u001b[1;33m\u001b[0m\u001b[0m\n\u001b[1;32m--> 521\u001b[1;33m         \u001b[1;32mreturn\u001b[0m \u001b[0mdualvar\u001b[0m\u001b[1;33m[\u001b[0m\u001b[0mv\u001b[0m\u001b[1;33m]\u001b[0m \u001b[1;33m+\u001b[0m \u001b[0mdualvar\u001b[0m\u001b[1;33m[\u001b[0m\u001b[0mw\u001b[0m\u001b[1;33m]\u001b[0m \u001b[1;33m-\u001b[0m \u001b[1;36m2\u001b[0m \u001b[1;33m*\u001b[0m \u001b[0mG\u001b[0m\u001b[1;33m[\u001b[0m\u001b[0mv\u001b[0m\u001b[1;33m]\u001b[0m\u001b[1;33m[\u001b[0m\u001b[0mw\u001b[0m\u001b[1;33m]\u001b[0m\u001b[1;33m.\u001b[0m\u001b[0mget\u001b[0m\u001b[1;33m(\u001b[0m\u001b[0mweight\u001b[0m\u001b[1;33m,\u001b[0m \u001b[1;36m1\u001b[0m\u001b[1;33m)\u001b[0m\u001b[1;33m\u001b[0m\u001b[1;33m\u001b[0m\u001b[0m\n\u001b[0m\u001b[0;32m    522\u001b[0m \u001b[1;33m\u001b[0m\u001b[0m\n\u001b[0;32m    523\u001b[0m     \u001b[1;31m# Assign label t to the top-level blossom containing vertex w,\u001b[0m\u001b[1;33m\u001b[0m\u001b[1;33m\u001b[0m\u001b[0m\n",
      "\u001b[1;31mKeyboardInterrupt\u001b[0m: "
     ]
    }
   ],
   "source": [
    "experimento('./instancias/')"
   ]
  }
 ],
 "metadata": {
  "kernelspec": {
   "display_name": "base",
   "language": "python",
   "name": "python3"
  },
  "language_info": {
   "codemirror_mode": {
    "name": "ipython",
    "version": 3
   },
   "file_extension": ".py",
   "mimetype": "text/x-python",
   "name": "python",
   "nbconvert_exporter": "python",
   "pygments_lexer": "ipython3",
   "version": "3.9.13"
  }
 },
 "nbformat": 4,
 "nbformat_minor": 2
}
